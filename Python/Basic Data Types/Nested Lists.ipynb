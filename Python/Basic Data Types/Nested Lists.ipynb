records = []
for _ in range(int(input())):
    name = input()
    score = float(input())
    records.append([name, score])

records = sorted(records, key = lambda x: x[1])
second_lowest_score = sorted(list(set([x[1] for x in records])))[1]
desired_records = []
for record in records:
    if record[1] == second_lowest_score:
        desired_records.append(record[0])
print("\n".join(sorted(desired_records)))
